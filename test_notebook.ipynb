{
 "cells": [
  {
   "cell_type": "code",
   "execution_count": 1,
   "metadata": {},
   "outputs": [],
   "source": [
    "import numpy as np\n",
    "import pandas as pd\n",
    "import matplotlib.pyplot as plt\n",
    "%matplotlib inline\n",
    "import seaborn as sns\n",
    "\n",
    "import warnings\n",
    "warnings.filterwarnings('ignore')"
   ]
  },
  {
   "cell_type": "code",
   "execution_count": 2,
   "metadata": {},
   "outputs": [],
   "source": [
    "# import the train and test data\n",
    "\n",
    "train_df = pd.read_csv(\"train.csv\")\n",
    "test_df = pd.read_csv(\"test.csv\")"
   ]
  },
  {
   "cell_type": "code",
   "execution_count": 4,
   "metadata": {},
   "outputs": [
    {
     "data": {
      "text/html": [
       "<div>\n",
       "<style scoped>\n",
       "    .dataframe tbody tr th:only-of-type {\n",
       "        vertical-align: middle;\n",
       "    }\n",
       "\n",
       "    .dataframe tbody tr th {\n",
       "        vertical-align: top;\n",
       "    }\n",
       "\n",
       "    .dataframe thead th {\n",
       "        text-align: right;\n",
       "    }\n",
       "</style>\n",
       "<table border=\"1\" class=\"dataframe\">\n",
       "  <thead>\n",
       "    <tr style=\"text-align: right;\">\n",
       "      <th></th>\n",
       "      <th>Image</th>\n",
       "      <th>Label</th>\n",
       "    </tr>\n",
       "  </thead>\n",
       "  <tbody>\n",
       "    <tr>\n",
       "      <th>0</th>\n",
       "      <td>r40fgp34fag8uesz98fz.jpg</td>\n",
       "      <td>7</td>\n",
       "    </tr>\n",
       "    <tr>\n",
       "      <th>1</th>\n",
       "      <td>fy3h2r5zsea89vcy131g.jpg</td>\n",
       "      <td>4</td>\n",
       "    </tr>\n",
       "    <tr>\n",
       "      <th>2</th>\n",
       "      <td>3bxkbk15zjligtg4aymr.jpg</td>\n",
       "      <td>0</td>\n",
       "    </tr>\n",
       "    <tr>\n",
       "      <th>3</th>\n",
       "      <td>lygdwa0bio4fitq48n35.jpg</td>\n",
       "      <td>0</td>\n",
       "    </tr>\n",
       "    <tr>\n",
       "      <th>4</th>\n",
       "      <td>240le483tt2ebwtuki7d.jpg</td>\n",
       "      <td>0</td>\n",
       "    </tr>\n",
       "  </tbody>\n",
       "</table>\n",
       "</div>"
      ],
      "text/plain": [
       "                      Image  Label\n",
       "0  r40fgp34fag8uesz98fz.jpg      7\n",
       "1  fy3h2r5zsea89vcy131g.jpg      4\n",
       "2  3bxkbk15zjligtg4aymr.jpg      0\n",
       "3  lygdwa0bio4fitq48n35.jpg      0\n",
       "4  240le483tt2ebwtuki7d.jpg      0"
      ]
     },
     "execution_count": 4,
     "metadata": {},
     "output_type": "execute_result"
    }
   ],
   "source": [
    "train_df.head()"
   ]
  },
  {
   "cell_type": "code",
   "execution_count": 5,
   "metadata": {},
   "outputs": [
    {
     "data": {
      "text/html": [
       "<div>\n",
       "<style scoped>\n",
       "    .dataframe tbody tr th:only-of-type {\n",
       "        vertical-align: middle;\n",
       "    }\n",
       "\n",
       "    .dataframe tbody tr th {\n",
       "        vertical-align: top;\n",
       "    }\n",
       "\n",
       "    .dataframe thead th {\n",
       "        text-align: right;\n",
       "    }\n",
       "</style>\n",
       "<table border=\"1\" class=\"dataframe\">\n",
       "  <thead>\n",
       "    <tr style=\"text-align: right;\">\n",
       "      <th></th>\n",
       "      <th>Image</th>\n",
       "      <th>Label</th>\n",
       "    </tr>\n",
       "  </thead>\n",
       "  <tbody>\n",
       "    <tr>\n",
       "      <th>0</th>\n",
       "      <td>kc0yq3aoedc1b0v05gwp.jpg</td>\n",
       "      <td>0</td>\n",
       "    </tr>\n",
       "    <tr>\n",
       "      <th>1</th>\n",
       "      <td>udxt71dqhpo3je6alnu3.jpg</td>\n",
       "      <td>0</td>\n",
       "    </tr>\n",
       "    <tr>\n",
       "      <th>2</th>\n",
       "      <td>n05xwwbvd8t0k2s6vxim.jpg</td>\n",
       "      <td>0</td>\n",
       "    </tr>\n",
       "    <tr>\n",
       "      <th>3</th>\n",
       "      <td>fe2udf0166l7e914798x.jpg</td>\n",
       "      <td>0</td>\n",
       "    </tr>\n",
       "    <tr>\n",
       "      <th>4</th>\n",
       "      <td>royn55uoa0oc330cmivt.jpg</td>\n",
       "      <td>0</td>\n",
       "    </tr>\n",
       "  </tbody>\n",
       "</table>\n",
       "</div>"
      ],
      "text/plain": [
       "                      Image  Label\n",
       "0  kc0yq3aoedc1b0v05gwp.jpg      0\n",
       "1  udxt71dqhpo3je6alnu3.jpg      0\n",
       "2  n05xwwbvd8t0k2s6vxim.jpg      0\n",
       "3  fe2udf0166l7e914798x.jpg      0\n",
       "4  royn55uoa0oc330cmivt.jpg      0"
      ]
     },
     "execution_count": 5,
     "metadata": {},
     "output_type": "execute_result"
    }
   ],
   "source": [
    "test_df.head()"
   ]
  },
  {
   "cell_type": "code",
   "execution_count": 7,
   "metadata": {},
   "outputs": [
    {
     "data": {
      "text/plain": [
       "Label\n",
       "4    3719\n",
       "0    1519\n",
       "3    1335\n",
       "7    1236\n",
       "2    1127\n",
       "9    1122\n",
       "8     989\n",
       "1     719\n",
       "5     678\n",
       "6     268\n",
       "Name: count, dtype: int64"
      ]
     },
     "execution_count": 7,
     "metadata": {},
     "output_type": "execute_result"
    }
   ],
   "source": [
    "train_df.Label.value_counts()"
   ]
  },
  {
   "cell_type": "code",
   "execution_count": 8,
   "metadata": {},
   "outputs": [
    {
     "name": "stdout",
     "output_type": "stream",
     "text": [
      "Shape of the X_train:  (8898,)\n",
      "Shape of the y_train:  (8898,)\n",
      "Shape of the X_test:  (3814,)\n",
      "Shape of the y_test:  (3814,)\n"
     ]
    }
   ],
   "source": [
    "# create train and validation data\n",
    "\n",
    "from sklearn.model_selection import train_test_split\n",
    "\n",
    "X_train, X_test, y_train, y_test = train_test_split(train_df.Image, \n",
    "                                                    train_df.Label, \n",
    "                                                    test_size=0.3, \n",
    "                                                    random_state=42, \n",
    "                                                    stratify=train_df.Label)\n",
    "\n",
    "print(\"Shape of the X_train: \", X_train.shape)\n",
    "print(\"Shape of the y_train: \", y_train.shape)\n",
    "print(\"Shape of the X_test: \", X_test.shape)\n",
    "print(\"Shape of the y_test: \", y_test.shape)"
   ]
  },
  {
   "cell_type": "code",
   "execution_count": 9,
   "metadata": {},
   "outputs": [
    {
     "name": "stdout",
     "output_type": "stream",
     "text": [
      "                          Image  Label\n",
      "8717   m5ck4bguqh4g2fztahqd.jpg      5\n",
      "6085   dp4rgofraohw80j4qym6.jpg      3\n",
      "250    uuq0xmlbkykc4tndpupr.jpg      4\n",
      "10365  v3pi554xr81yuu3ckrnu.jpg      0\n",
      "3554   fqcljihfbvj72u0vptk0.jpg      7\n",
      "...                         ...    ...\n",
      "4417   q58qs4z5hgddmsw4pwnp.jpg      2\n",
      "11998  7c66my688bcz5tw5cpq8.jpg      9\n",
      "2793   zqr8d3m62lk03ijhq13d.jpg      4\n",
      "773    oo7mq4gwqt9eoxw97q9m.jpg      3\n",
      "5010   mk2hk6pbnk1m0dwxqlk6.jpg      8\n",
      "\n",
      "[8898 rows x 2 columns]\n",
      "                          Image  Label\n",
      "9476   skey3g1zox7akwnf0tza.jpg      3\n",
      "10710  2ljlb26p0sjqlfovyd01.jpg      4\n",
      "3970   bz6p02mhz6syt67pyau0.jpg      4\n",
      "7514   illk609tl7kz0082al6l.jpg      8\n",
      "8960   ftkv3jqtic9m0o8p7zx1.jpg      6\n",
      "...                         ...    ...\n",
      "11146  hxz9efal5w2sfnoclwa9.jpg      3\n",
      "12276  tccxpq7o32s5kp3g4f3i.jpg      5\n",
      "10915  ow4ldjzey5ffm1hx5j3c.jpg      8\n",
      "3447   2zvlzz9xu47s9jh52qn3.jpg      3\n",
      "11711  kjlc7g054czhjhlpygne.jpg      4\n",
      "\n",
      "[3814 rows x 2 columns]\n"
     ]
    }
   ],
   "source": [
    "train_df_concat = pd.concat([X_train, y_train], axis = 1)\n",
    "valid_df_concat = pd.concat([X_test, y_test], axis = 1)\n",
    "\n",
    "print(train_df_concat)\n",
    "print(valid_df_concat)"
   ]
  },
  {
   "cell_type": "code",
   "execution_count": 12,
   "metadata": {},
   "outputs": [
    {
     "name": "stdout",
     "output_type": "stream",
     "text": [
      "(8898, 2)\n",
      "(3814, 2)\n"
     ]
    }
   ],
   "source": [
    "print(train_df_concat.shape)\n",
    "print(valid_df_concat.shape)"
   ]
  },
  {
   "cell_type": "code",
   "execution_count": 28,
   "metadata": {},
   "outputs": [],
   "source": [
    "# Function to convert images to 1D vector\n",
    "import os\n",
    "from PIL import Image\n",
    "from tqdm import tqdm\n",
    "\n",
    "def function_1dVector(path, dataset):\n",
    "    myblanklist = []\n",
    "    for file in tqdm(dataset.Image):\n",
    "        img = Image.open(os.path.join(path, file)).convert(\"L\")\n",
    "        im = img.resize((128, 128))\n",
    "        image_array = np.array(im)\n",
    "        image_array = 255 - image_array\n",
    "        normalized_image = image_array / 255.0\n",
    "        myblanklist.append(normalized_image.flatten())\n",
    "    \n",
    "    return myblanklist"
   ]
  },
  {
   "cell_type": "code",
   "execution_count": 30,
   "metadata": {},
   "outputs": [
    {
     "name": "stderr",
     "output_type": "stream",
     "text": [
      "100%|██████████| 8898/8898 [00:25<00:00, 343.25it/s]\n"
     ]
    }
   ],
   "source": [
    "train_1dData = function_1dVector('train', train_df_concat)"
   ]
  },
  {
   "cell_type": "code",
   "execution_count": 31,
   "metadata": {},
   "outputs": [
    {
     "name": "stderr",
     "output_type": "stream",
     "text": [
      "100%|██████████| 3814/3814 [00:06<00:00, 582.49it/s]\n"
     ]
    }
   ],
   "source": [
    "val_1dData = function_1dVector('train', valid_df_concat)"
   ]
  }
 ],
 "metadata": {
  "kernelspec": {
   "display_name": "venv",
   "language": "python",
   "name": "python3"
  },
  "language_info": {
   "codemirror_mode": {
    "name": "ipython",
    "version": 3
   },
   "file_extension": ".py",
   "mimetype": "text/x-python",
   "name": "python",
   "nbconvert_exporter": "python",
   "pygments_lexer": "ipython3",
   "version": "3.9.1"
  },
  "orig_nbformat": 4
 },
 "nbformat": 4,
 "nbformat_minor": 2
}
