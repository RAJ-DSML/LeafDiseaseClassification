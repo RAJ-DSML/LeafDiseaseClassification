{
 "cells": [
  {
   "cell_type": "code",
   "execution_count": 1,
   "metadata": {},
   "outputs": [],
   "source": [
    "import numpy as np\n",
    "import pandas as pd\n",
    "\n",
    "import warnings\n",
    "warnings.filterwarnings('ignore')"
   ]
  },
  {
   "cell_type": "code",
   "execution_count": 2,
   "metadata": {},
   "outputs": [],
   "source": [
    "# import the train and test data\n",
    "\n",
    "train_df = pd.read_csv(\"train.csv\")\n",
    "test_df = pd.read_csv(\"test.csv\")"
   ]
  },
  {
   "cell_type": "code",
   "execution_count": 4,
   "metadata": {},
   "outputs": [
    {
     "data": {
      "text/html": [
       "<div>\n",
       "<style scoped>\n",
       "    .dataframe tbody tr th:only-of-type {\n",
       "        vertical-align: middle;\n",
       "    }\n",
       "\n",
       "    .dataframe tbody tr th {\n",
       "        vertical-align: top;\n",
       "    }\n",
       "\n",
       "    .dataframe thead th {\n",
       "        text-align: right;\n",
       "    }\n",
       "</style>\n",
       "<table border=\"1\" class=\"dataframe\">\n",
       "  <thead>\n",
       "    <tr style=\"text-align: right;\">\n",
       "      <th></th>\n",
       "      <th>Image</th>\n",
       "      <th>Label</th>\n",
       "    </tr>\n",
       "  </thead>\n",
       "  <tbody>\n",
       "    <tr>\n",
       "      <th>0</th>\n",
       "      <td>r40fgp34fag8uesz98fz.jpg</td>\n",
       "      <td>7</td>\n",
       "    </tr>\n",
       "    <tr>\n",
       "      <th>1</th>\n",
       "      <td>fy3h2r5zsea89vcy131g.jpg</td>\n",
       "      <td>4</td>\n",
       "    </tr>\n",
       "    <tr>\n",
       "      <th>2</th>\n",
       "      <td>3bxkbk15zjligtg4aymr.jpg</td>\n",
       "      <td>0</td>\n",
       "    </tr>\n",
       "    <tr>\n",
       "      <th>3</th>\n",
       "      <td>lygdwa0bio4fitq48n35.jpg</td>\n",
       "      <td>0</td>\n",
       "    </tr>\n",
       "    <tr>\n",
       "      <th>4</th>\n",
       "      <td>240le483tt2ebwtuki7d.jpg</td>\n",
       "      <td>0</td>\n",
       "    </tr>\n",
       "  </tbody>\n",
       "</table>\n",
       "</div>"
      ],
      "text/plain": [
       "                      Image  Label\n",
       "0  r40fgp34fag8uesz98fz.jpg      7\n",
       "1  fy3h2r5zsea89vcy131g.jpg      4\n",
       "2  3bxkbk15zjligtg4aymr.jpg      0\n",
       "3  lygdwa0bio4fitq48n35.jpg      0\n",
       "4  240le483tt2ebwtuki7d.jpg      0"
      ]
     },
     "execution_count": 4,
     "metadata": {},
     "output_type": "execute_result"
    }
   ],
   "source": [
    "train_df.head()"
   ]
  },
  {
   "cell_type": "code",
   "execution_count": 5,
   "metadata": {},
   "outputs": [
    {
     "data": {
      "text/html": [
       "<div>\n",
       "<style scoped>\n",
       "    .dataframe tbody tr th:only-of-type {\n",
       "        vertical-align: middle;\n",
       "    }\n",
       "\n",
       "    .dataframe tbody tr th {\n",
       "        vertical-align: top;\n",
       "    }\n",
       "\n",
       "    .dataframe thead th {\n",
       "        text-align: right;\n",
       "    }\n",
       "</style>\n",
       "<table border=\"1\" class=\"dataframe\">\n",
       "  <thead>\n",
       "    <tr style=\"text-align: right;\">\n",
       "      <th></th>\n",
       "      <th>Image</th>\n",
       "      <th>Label</th>\n",
       "    </tr>\n",
       "  </thead>\n",
       "  <tbody>\n",
       "    <tr>\n",
       "      <th>0</th>\n",
       "      <td>kc0yq3aoedc1b0v05gwp.jpg</td>\n",
       "      <td>0</td>\n",
       "    </tr>\n",
       "    <tr>\n",
       "      <th>1</th>\n",
       "      <td>udxt71dqhpo3je6alnu3.jpg</td>\n",
       "      <td>0</td>\n",
       "    </tr>\n",
       "    <tr>\n",
       "      <th>2</th>\n",
       "      <td>n05xwwbvd8t0k2s6vxim.jpg</td>\n",
       "      <td>0</td>\n",
       "    </tr>\n",
       "    <tr>\n",
       "      <th>3</th>\n",
       "      <td>fe2udf0166l7e914798x.jpg</td>\n",
       "      <td>0</td>\n",
       "    </tr>\n",
       "    <tr>\n",
       "      <th>4</th>\n",
       "      <td>royn55uoa0oc330cmivt.jpg</td>\n",
       "      <td>0</td>\n",
       "    </tr>\n",
       "  </tbody>\n",
       "</table>\n",
       "</div>"
      ],
      "text/plain": [
       "                      Image  Label\n",
       "0  kc0yq3aoedc1b0v05gwp.jpg      0\n",
       "1  udxt71dqhpo3je6alnu3.jpg      0\n",
       "2  n05xwwbvd8t0k2s6vxim.jpg      0\n",
       "3  fe2udf0166l7e914798x.jpg      0\n",
       "4  royn55uoa0oc330cmivt.jpg      0"
      ]
     },
     "execution_count": 5,
     "metadata": {},
     "output_type": "execute_result"
    }
   ],
   "source": [
    "test_df.head()"
   ]
  },
  {
   "cell_type": "code",
   "execution_count": 7,
   "metadata": {},
   "outputs": [
    {
     "data": {
      "text/plain": [
       "Label\n",
       "4    3719\n",
       "0    1519\n",
       "3    1335\n",
       "7    1236\n",
       "2    1127\n",
       "9    1122\n",
       "8     989\n",
       "1     719\n",
       "5     678\n",
       "6     268\n",
       "Name: count, dtype: int64"
      ]
     },
     "execution_count": 7,
     "metadata": {},
     "output_type": "execute_result"
    }
   ],
   "source": [
    "train_df.Label.value_counts()"
   ]
  },
  {
   "cell_type": "code",
   "execution_count": 8,
   "metadata": {},
   "outputs": [
    {
     "name": "stdout",
     "output_type": "stream",
     "text": [
      "Shape of the X_train:  (8898,)\n",
      "Shape of the y_train:  (8898,)\n",
      "Shape of the X_test:  (3814,)\n",
      "Shape of the y_test:  (3814,)\n"
     ]
    }
   ],
   "source": [
    "# create train and validation data\n",
    "\n",
    "from sklearn.model_selection import train_test_split\n",
    "\n",
    "X_train, X_test, y_train, y_test = train_test_split(train_df.Image, \n",
    "                                                    train_df.Label, \n",
    "                                                    test_size=0.3, \n",
    "                                                    random_state=42, \n",
    "                                                    stratify=train_df.Label)\n",
    "\n",
    "print(\"Shape of the X_train: \", X_train.shape)\n",
    "print(\"Shape of the y_train: \", y_train.shape)\n",
    "print(\"Shape of the X_test: \", X_test.shape)\n",
    "print(\"Shape of the y_test: \", y_test.shape)"
   ]
  },
  {
   "cell_type": "code",
   "execution_count": 9,
   "metadata": {},
   "outputs": [
    {
     "name": "stdout",
     "output_type": "stream",
     "text": [
      "                          Image  Label\n",
      "8717   m5ck4bguqh4g2fztahqd.jpg      5\n",
      "6085   dp4rgofraohw80j4qym6.jpg      3\n",
      "250    uuq0xmlbkykc4tndpupr.jpg      4\n",
      "10365  v3pi554xr81yuu3ckrnu.jpg      0\n",
      "3554   fqcljihfbvj72u0vptk0.jpg      7\n",
      "...                         ...    ...\n",
      "4417   q58qs4z5hgddmsw4pwnp.jpg      2\n",
      "11998  7c66my688bcz5tw5cpq8.jpg      9\n",
      "2793   zqr8d3m62lk03ijhq13d.jpg      4\n",
      "773    oo7mq4gwqt9eoxw97q9m.jpg      3\n",
      "5010   mk2hk6pbnk1m0dwxqlk6.jpg      8\n",
      "\n",
      "[8898 rows x 2 columns]\n",
      "                          Image  Label\n",
      "9476   skey3g1zox7akwnf0tza.jpg      3\n",
      "10710  2ljlb26p0sjqlfovyd01.jpg      4\n",
      "3970   bz6p02mhz6syt67pyau0.jpg      4\n",
      "7514   illk609tl7kz0082al6l.jpg      8\n",
      "8960   ftkv3jqtic9m0o8p7zx1.jpg      6\n",
      "...                         ...    ...\n",
      "11146  hxz9efal5w2sfnoclwa9.jpg      3\n",
      "12276  tccxpq7o32s5kp3g4f3i.jpg      5\n",
      "10915  ow4ldjzey5ffm1hx5j3c.jpg      8\n",
      "3447   2zvlzz9xu47s9jh52qn3.jpg      3\n",
      "11711  kjlc7g054czhjhlpygne.jpg      4\n",
      "\n",
      "[3814 rows x 2 columns]\n"
     ]
    }
   ],
   "source": [
    "train_df_concat = pd.concat([X_train, y_train], axis = 1)\n",
    "valid_df_concat = pd.concat([X_test, y_test], axis = 1)\n",
    "\n",
    "print(train_df_concat)\n",
    "print(valid_df_concat)"
   ]
  },
  {
   "cell_type": "code",
   "execution_count": 12,
   "metadata": {},
   "outputs": [
    {
     "name": "stdout",
     "output_type": "stream",
     "text": [
      "(8898, 2)\n",
      "(3814, 2)\n"
     ]
    }
   ],
   "source": [
    "print(train_df_concat.shape)\n",
    "print(valid_df_concat.shape)"
   ]
  },
  {
   "cell_type": "code",
   "execution_count": 28,
   "metadata": {},
   "outputs": [],
   "source": [
    "# Function to convert images to 1D vector\n",
    "import os\n",
    "from PIL import Image\n",
    "from tqdm import tqdm\n",
    "\n",
    "def function_1dVector(path, dataset):\n",
    "    myblanklist = []\n",
    "    for file in tqdm(dataset.Image):\n",
    "        img = Image.open(os.path.join(path, file)).convert(\"L\")\n",
    "        im = img.resize((128, 128))\n",
    "        image_array = np.array(im)\n",
    "        image_array = 255 - image_array\n",
    "        normalized_image = image_array / 255.0\n",
    "        myblanklist.append(normalized_image.flatten())\n",
    "    \n",
    "    return myblanklist"
   ]
  },
  {
   "cell_type": "code",
   "execution_count": 30,
   "metadata": {},
   "outputs": [
    {
     "name": "stderr",
     "output_type": "stream",
     "text": [
      "100%|██████████| 8898/8898 [00:25<00:00, 343.25it/s]\n"
     ]
    }
   ],
   "source": [
    "train_1dData = function_1dVector('train', train_df_concat)"
   ]
  },
  {
   "cell_type": "code",
   "execution_count": 31,
   "metadata": {},
   "outputs": [
    {
     "name": "stderr",
     "output_type": "stream",
     "text": [
      "100%|██████████| 3814/3814 [00:06<00:00, 582.49it/s]\n"
     ]
    }
   ],
   "source": [
    "val_1dData = function_1dVector('train', valid_df_concat)"
   ]
  },
  {
   "cell_type": "code",
   "execution_count": 33,
   "metadata": {},
   "outputs": [
    {
     "name": "stdout",
     "output_type": "stream",
     "text": [
      "[0]\tvalidation_0-merror:0.56293\tvalidation_0-mlogloss:2.00008\n",
      "[1]\tvalidation_0-merror:0.51468\tvalidation_0-mlogloss:1.83579\n",
      "[2]\tvalidation_0-merror:0.48925\tvalidation_0-mlogloss:1.71748\n",
      "[3]\tvalidation_0-merror:0.46539\tvalidation_0-mlogloss:1.62708\n",
      "[4]\tvalidation_0-merror:0.45097\tvalidation_0-mlogloss:1.55761\n",
      "[5]\tvalidation_0-merror:0.44232\tvalidation_0-mlogloss:1.49679\n",
      "[6]\tvalidation_0-merror:0.43524\tvalidation_0-mlogloss:1.45152\n",
      "[7]\tvalidation_0-merror:0.42973\tvalidation_0-mlogloss:1.41293\n",
      "[8]\tvalidation_0-merror:0.42475\tvalidation_0-mlogloss:1.37587\n",
      "[9]\tvalidation_0-merror:0.42108\tvalidation_0-mlogloss:1.34519\n",
      "[10]\tvalidation_0-merror:0.41426\tvalidation_0-mlogloss:1.31750\n",
      "[11]\tvalidation_0-merror:0.40823\tvalidation_0-mlogloss:1.29102\n",
      "[12]\tvalidation_0-merror:0.40194\tvalidation_0-mlogloss:1.26838\n",
      "[13]\tvalidation_0-merror:0.40115\tvalidation_0-mlogloss:1.25024\n",
      "[14]\tvalidation_0-merror:0.39932\tvalidation_0-mlogloss:1.23229\n",
      "[15]\tvalidation_0-merror:0.39303\tvalidation_0-mlogloss:1.21387\n",
      "[16]\tvalidation_0-merror:0.38752\tvalidation_0-mlogloss:1.19988\n",
      "[17]\tvalidation_0-merror:0.38411\tvalidation_0-mlogloss:1.18588\n",
      "[18]\tvalidation_0-merror:0.37782\tvalidation_0-mlogloss:1.17163\n",
      "[19]\tvalidation_0-merror:0.37913\tvalidation_0-mlogloss:1.16154\n",
      "[20]\tvalidation_0-merror:0.37546\tvalidation_0-mlogloss:1.14852\n",
      "[21]\tvalidation_0-merror:0.37572\tvalidation_0-mlogloss:1.14079\n",
      "[22]\tvalidation_0-merror:0.37415\tvalidation_0-mlogloss:1.13266\n",
      "[23]\tvalidation_0-merror:0.37100\tvalidation_0-mlogloss:1.12613\n",
      "[24]\tvalidation_0-merror:0.37336\tvalidation_0-mlogloss:1.11759\n",
      "[25]\tvalidation_0-merror:0.36995\tvalidation_0-mlogloss:1.11174\n",
      "[26]\tvalidation_0-merror:0.36864\tvalidation_0-mlogloss:1.10317\n",
      "[27]\tvalidation_0-merror:0.36550\tvalidation_0-mlogloss:1.09834\n",
      "[28]\tvalidation_0-merror:0.36287\tvalidation_0-mlogloss:1.09135\n",
      "[29]\tvalidation_0-merror:0.35711\tvalidation_0-mlogloss:1.08584\n",
      "[30]\tvalidation_0-merror:0.35947\tvalidation_0-mlogloss:1.08029\n",
      "[31]\tvalidation_0-merror:0.35527\tvalidation_0-mlogloss:1.07606\n",
      "[32]\tvalidation_0-merror:0.35212\tvalidation_0-mlogloss:1.07047\n",
      "[33]\tvalidation_0-merror:0.35212\tvalidation_0-mlogloss:1.06568\n",
      "[34]\tvalidation_0-merror:0.35029\tvalidation_0-mlogloss:1.06203\n",
      "[35]\tvalidation_0-merror:0.34688\tvalidation_0-mlogloss:1.05594\n",
      "[36]\tvalidation_0-merror:0.34688\tvalidation_0-mlogloss:1.05171\n",
      "[37]\tvalidation_0-merror:0.34636\tvalidation_0-mlogloss:1.04578\n",
      "[38]\tvalidation_0-merror:0.34531\tvalidation_0-mlogloss:1.04267\n",
      "[39]\tvalidation_0-merror:0.34478\tvalidation_0-mlogloss:1.03969\n",
      "[40]\tvalidation_0-merror:0.34295\tvalidation_0-mlogloss:1.03656\n",
      "[41]\tvalidation_0-merror:0.34190\tvalidation_0-mlogloss:1.03339\n",
      "[42]\tvalidation_0-merror:0.34137\tvalidation_0-mlogloss:1.03077\n",
      "[43]\tvalidation_0-merror:0.34059\tvalidation_0-mlogloss:1.02969\n",
      "[44]\tvalidation_0-merror:0.34137\tvalidation_0-mlogloss:1.02785\n",
      "[45]\tvalidation_0-merror:0.34059\tvalidation_0-mlogloss:1.02348\n",
      "[46]\tvalidation_0-merror:0.33901\tvalidation_0-mlogloss:1.02102\n",
      "[47]\tvalidation_0-merror:0.33797\tvalidation_0-mlogloss:1.02013\n",
      "[48]\tvalidation_0-merror:0.33954\tvalidation_0-mlogloss:1.01789\n",
      "[49]\tvalidation_0-merror:0.33718\tvalidation_0-mlogloss:1.01606\n",
      "[50]\tvalidation_0-merror:0.34059\tvalidation_0-mlogloss:1.01505\n",
      "[51]\tvalidation_0-merror:0.33744\tvalidation_0-mlogloss:1.01136\n",
      "[52]\tvalidation_0-merror:0.33692\tvalidation_0-mlogloss:1.01073\n",
      "[53]\tvalidation_0-merror:0.33849\tvalidation_0-mlogloss:1.00918\n",
      "[54]\tvalidation_0-merror:0.33692\tvalidation_0-mlogloss:1.00781\n",
      "[55]\tvalidation_0-merror:0.33377\tvalidation_0-mlogloss:1.00657\n",
      "[56]\tvalidation_0-merror:0.33534\tvalidation_0-mlogloss:1.00524\n",
      "[57]\tvalidation_0-merror:0.33561\tvalidation_0-mlogloss:1.00405\n",
      "[58]\tvalidation_0-merror:0.33272\tvalidation_0-mlogloss:1.00201\n",
      "[59]\tvalidation_0-merror:0.33089\tvalidation_0-mlogloss:1.00059\n",
      "[60]\tvalidation_0-merror:0.33010\tvalidation_0-mlogloss:0.99977\n",
      "[61]\tvalidation_0-merror:0.32748\tvalidation_0-mlogloss:0.99931\n",
      "[62]\tvalidation_0-merror:0.32905\tvalidation_0-mlogloss:0.99766\n",
      "[63]\tvalidation_0-merror:0.32695\tvalidation_0-mlogloss:0.99686\n",
      "[64]\tvalidation_0-merror:0.32590\tvalidation_0-mlogloss:0.99499\n",
      "[65]\tvalidation_0-merror:0.32407\tvalidation_0-mlogloss:0.99401\n",
      "[66]\tvalidation_0-merror:0.32486\tvalidation_0-mlogloss:0.99291\n",
      "[67]\tvalidation_0-merror:0.32617\tvalidation_0-mlogloss:0.99207\n",
      "[68]\tvalidation_0-merror:0.32486\tvalidation_0-mlogloss:0.99168\n",
      "[69]\tvalidation_0-merror:0.32486\tvalidation_0-mlogloss:0.99117\n",
      "[70]\tvalidation_0-merror:0.32486\tvalidation_0-mlogloss:0.99050\n",
      "[71]\tvalidation_0-merror:0.32276\tvalidation_0-mlogloss:0.99151\n",
      "[72]\tvalidation_0-merror:0.31935\tvalidation_0-mlogloss:0.99098\n",
      "[73]\tvalidation_0-merror:0.32066\tvalidation_0-mlogloss:0.99179\n",
      "[74]\tvalidation_0-merror:0.32014\tvalidation_0-mlogloss:0.99063\n",
      "[75]\tvalidation_0-merror:0.31961\tvalidation_0-mlogloss:0.98927\n",
      "[76]\tvalidation_0-merror:0.31909\tvalidation_0-mlogloss:0.98875\n",
      "[77]\tvalidation_0-merror:0.31909\tvalidation_0-mlogloss:0.98782\n",
      "[78]\tvalidation_0-merror:0.32119\tvalidation_0-mlogloss:0.98614\n",
      "[79]\tvalidation_0-merror:0.31987\tvalidation_0-mlogloss:0.98543\n",
      "[80]\tvalidation_0-merror:0.31909\tvalidation_0-mlogloss:0.98621\n",
      "[81]\tvalidation_0-merror:0.31883\tvalidation_0-mlogloss:0.98543\n",
      "[82]\tvalidation_0-merror:0.31699\tvalidation_0-mlogloss:0.98515\n",
      "[83]\tvalidation_0-merror:0.31909\tvalidation_0-mlogloss:0.98467\n",
      "[84]\tvalidation_0-merror:0.31883\tvalidation_0-mlogloss:0.98492\n",
      "[85]\tvalidation_0-merror:0.31673\tvalidation_0-mlogloss:0.98453\n",
      "[86]\tvalidation_0-merror:0.31594\tvalidation_0-mlogloss:0.98351\n",
      "[87]\tvalidation_0-merror:0.31673\tvalidation_0-mlogloss:0.98317\n",
      "[88]\tvalidation_0-merror:0.31568\tvalidation_0-mlogloss:0.98244\n",
      "[89]\tvalidation_0-merror:0.31489\tvalidation_0-mlogloss:0.98243\n",
      "[90]\tvalidation_0-merror:0.31515\tvalidation_0-mlogloss:0.98173\n",
      "[91]\tvalidation_0-merror:0.31673\tvalidation_0-mlogloss:0.98168\n",
      "[92]\tvalidation_0-merror:0.31594\tvalidation_0-mlogloss:0.98103\n",
      "[93]\tvalidation_0-merror:0.31437\tvalidation_0-mlogloss:0.98077\n",
      "[94]\tvalidation_0-merror:0.31358\tvalidation_0-mlogloss:0.98066\n",
      "[95]\tvalidation_0-merror:0.31384\tvalidation_0-mlogloss:0.98088\n",
      "[96]\tvalidation_0-merror:0.31306\tvalidation_0-mlogloss:0.98116\n",
      "[97]\tvalidation_0-merror:0.31279\tvalidation_0-mlogloss:0.98077\n",
      "[98]\tvalidation_0-merror:0.31279\tvalidation_0-mlogloss:0.98081\n",
      "[99]\tvalidation_0-merror:0.31253\tvalidation_0-mlogloss:0.97965\n"
     ]
    },
    {
     "data": {
      "text/html": [
       "<style>#sk-container-id-1 {color: black;}#sk-container-id-1 pre{padding: 0;}#sk-container-id-1 div.sk-toggleable {background-color: white;}#sk-container-id-1 label.sk-toggleable__label {cursor: pointer;display: block;width: 100%;margin-bottom: 0;padding: 0.3em;box-sizing: border-box;text-align: center;}#sk-container-id-1 label.sk-toggleable__label-arrow:before {content: \"▸\";float: left;margin-right: 0.25em;color: #696969;}#sk-container-id-1 label.sk-toggleable__label-arrow:hover:before {color: black;}#sk-container-id-1 div.sk-estimator:hover label.sk-toggleable__label-arrow:before {color: black;}#sk-container-id-1 div.sk-toggleable__content {max-height: 0;max-width: 0;overflow: hidden;text-align: left;background-color: #f0f8ff;}#sk-container-id-1 div.sk-toggleable__content pre {margin: 0.2em;color: black;border-radius: 0.25em;background-color: #f0f8ff;}#sk-container-id-1 input.sk-toggleable__control:checked~div.sk-toggleable__content {max-height: 200px;max-width: 100%;overflow: auto;}#sk-container-id-1 input.sk-toggleable__control:checked~label.sk-toggleable__label-arrow:before {content: \"▾\";}#sk-container-id-1 div.sk-estimator input.sk-toggleable__control:checked~label.sk-toggleable__label {background-color: #d4ebff;}#sk-container-id-1 div.sk-label input.sk-toggleable__control:checked~label.sk-toggleable__label {background-color: #d4ebff;}#sk-container-id-1 input.sk-hidden--visually {border: 0;clip: rect(1px 1px 1px 1px);clip: rect(1px, 1px, 1px, 1px);height: 1px;margin: -1px;overflow: hidden;padding: 0;position: absolute;width: 1px;}#sk-container-id-1 div.sk-estimator {font-family: monospace;background-color: #f0f8ff;border: 1px dotted black;border-radius: 0.25em;box-sizing: border-box;margin-bottom: 0.5em;}#sk-container-id-1 div.sk-estimator:hover {background-color: #d4ebff;}#sk-container-id-1 div.sk-parallel-item::after {content: \"\";width: 100%;border-bottom: 1px solid gray;flex-grow: 1;}#sk-container-id-1 div.sk-label:hover label.sk-toggleable__label {background-color: #d4ebff;}#sk-container-id-1 div.sk-serial::before {content: \"\";position: absolute;border-left: 1px solid gray;box-sizing: border-box;top: 0;bottom: 0;left: 50%;z-index: 0;}#sk-container-id-1 div.sk-serial {display: flex;flex-direction: column;align-items: center;background-color: white;padding-right: 0.2em;padding-left: 0.2em;position: relative;}#sk-container-id-1 div.sk-item {position: relative;z-index: 1;}#sk-container-id-1 div.sk-parallel {display: flex;align-items: stretch;justify-content: center;background-color: white;position: relative;}#sk-container-id-1 div.sk-item::before, #sk-container-id-1 div.sk-parallel-item::before {content: \"\";position: absolute;border-left: 1px solid gray;box-sizing: border-box;top: 0;bottom: 0;left: 50%;z-index: -1;}#sk-container-id-1 div.sk-parallel-item {display: flex;flex-direction: column;z-index: 1;position: relative;background-color: white;}#sk-container-id-1 div.sk-parallel-item:first-child::after {align-self: flex-end;width: 50%;}#sk-container-id-1 div.sk-parallel-item:last-child::after {align-self: flex-start;width: 50%;}#sk-container-id-1 div.sk-parallel-item:only-child::after {width: 0;}#sk-container-id-1 div.sk-dashed-wrapped {border: 1px dashed gray;margin: 0 0.4em 0.5em 0.4em;box-sizing: border-box;padding-bottom: 0.4em;background-color: white;}#sk-container-id-1 div.sk-label label {font-family: monospace;font-weight: bold;display: inline-block;line-height: 1.2em;}#sk-container-id-1 div.sk-label-container {text-align: center;}#sk-container-id-1 div.sk-container {/* jupyter's `normalize.less` sets `[hidden] { display: none; }` but bootstrap.min.css set `[hidden] { display: none !important; }` so we also need the `!important` here to be able to override the default hidden behavior on the sphinx rendered scikit-learn.org. See: https://github.com/scikit-learn/scikit-learn/issues/21755 */display: inline-block !important;position: relative;}#sk-container-id-1 div.sk-text-repr-fallback {display: none;}</style><div id=\"sk-container-id-1\" class=\"sk-top-container\"><div class=\"sk-text-repr-fallback\"><pre>XGBClassifier(base_score=None, booster=None, callbacks=None,\n",
       "              colsample_bylevel=None, colsample_bynode=None,\n",
       "              colsample_bytree=None, device=None, early_stopping_rounds=None,\n",
       "              enable_categorical=False, eval_metric=None, feature_types=None,\n",
       "              gamma=None, grow_policy=None, importance_type=None,\n",
       "              interaction_constraints=None, learning_rate=None, max_bin=None,\n",
       "              max_cat_threshold=None, max_cat_to_onehot=None,\n",
       "              max_delta_step=None, max_depth=None, max_leaves=None,\n",
       "              min_child_weight=None, missing=nan, monotone_constraints=None,\n",
       "              multi_strategy=None, n_estimators=None, n_jobs=None,\n",
       "              num_parallel_tree=None, objective=&#x27;multi:softprob&#x27;, ...)</pre><b>In a Jupyter environment, please rerun this cell to show the HTML representation or trust the notebook. <br />On GitHub, the HTML representation is unable to render, please try loading this page with nbviewer.org.</b></div><div class=\"sk-container\" hidden><div class=\"sk-item\"><div class=\"sk-estimator sk-toggleable\"><input class=\"sk-toggleable__control sk-hidden--visually\" id=\"sk-estimator-id-1\" type=\"checkbox\" checked><label for=\"sk-estimator-id-1\" class=\"sk-toggleable__label sk-toggleable__label-arrow\">XGBClassifier</label><div class=\"sk-toggleable__content\"><pre>XGBClassifier(base_score=None, booster=None, callbacks=None,\n",
       "              colsample_bylevel=None, colsample_bynode=None,\n",
       "              colsample_bytree=None, device=None, early_stopping_rounds=None,\n",
       "              enable_categorical=False, eval_metric=None, feature_types=None,\n",
       "              gamma=None, grow_policy=None, importance_type=None,\n",
       "              interaction_constraints=None, learning_rate=None, max_bin=None,\n",
       "              max_cat_threshold=None, max_cat_to_onehot=None,\n",
       "              max_delta_step=None, max_depth=None, max_leaves=None,\n",
       "              min_child_weight=None, missing=nan, monotone_constraints=None,\n",
       "              multi_strategy=None, n_estimators=None, n_jobs=None,\n",
       "              num_parallel_tree=None, objective=&#x27;multi:softprob&#x27;, ...)</pre></div></div></div></div></div>"
      ],
      "text/plain": [
       "XGBClassifier(base_score=None, booster=None, callbacks=None,\n",
       "              colsample_bylevel=None, colsample_bynode=None,\n",
       "              colsample_bytree=None, device=None, early_stopping_rounds=None,\n",
       "              enable_categorical=False, eval_metric=None, feature_types=None,\n",
       "              gamma=None, grow_policy=None, importance_type=None,\n",
       "              interaction_constraints=None, learning_rate=None, max_bin=None,\n",
       "              max_cat_threshold=None, max_cat_to_onehot=None,\n",
       "              max_delta_step=None, max_depth=None, max_leaves=None,\n",
       "              min_child_weight=None, missing=nan, monotone_constraints=None,\n",
       "              multi_strategy=None, n_estimators=None, n_jobs=None,\n",
       "              num_parallel_tree=None, objective='multi:softprob', ...)"
      ]
     },
     "execution_count": 33,
     "metadata": {},
     "output_type": "execute_result"
    }
   ],
   "source": [
    "import xgboost as xgb\n",
    "\n",
    "xgb_model = xgb.XGBClassifier()\n",
    "\n",
    "# Fit the data into the model\n",
    "xgb_model.fit(train_1dData,\n",
    "              y_train,\n",
    "              eval_set=[(val_1dData, y_test)], \n",
    "              eval_metric=['merror', 'mlogloss'])"
   ]
  },
  {
   "cell_type": "code",
   "execution_count": 34,
   "metadata": {},
   "outputs": [],
   "source": [
    "# Prediction on validation data\n",
    "valid_data_predict = xgb_model.predict(val_1dData)"
   ]
  },
  {
   "cell_type": "code",
   "execution_count": 36,
   "metadata": {},
   "outputs": [
    {
     "name": "stdout",
     "output_type": "stream",
     "text": [
      "Accuracy for Validation:69.0\n"
     ]
    }
   ],
   "source": [
    "# Data sccuracy score for validation\n",
    "from sklearn.metrics import accuracy_score\n",
    "\n",
    "print(f\"Accuracy for Validation:{accuracy_score(y_test,valid_data_predict).round(2)*100}\")"
   ]
  }
 ],
 "metadata": {
  "kernelspec": {
   "display_name": "venv",
   "language": "python",
   "name": "python3"
  },
  "language_info": {
   "codemirror_mode": {
    "name": "ipython",
    "version": 3
   },
   "file_extension": ".py",
   "mimetype": "text/x-python",
   "name": "python",
   "nbconvert_exporter": "python",
   "pygments_lexer": "ipython3",
   "version": "3.9.1"
  },
  "orig_nbformat": 4
 },
 "nbformat": 4,
 "nbformat_minor": 2
}
